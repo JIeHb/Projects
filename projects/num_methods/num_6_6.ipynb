{
 "cells": [
  {
   "cell_type": "code",
   "execution_count": null,
   "metadata": {},
   "outputs": [],
   "source": [
    "n = 11\n",
    "N = n - 1\n",
    "h = 1 / n\n",
    "x = [i * h for i in range(n)]\n",
    "y = [i * h for i in range(n)]\n",
    "\n",
    "f = lambda x, y: x + y ** 2\n",
    "\n",
    "u = [[0 for i in range(n)] for j in range(n)]\n",
    "M = 1000\n",
    "eps = 0.1\n",
    "\n",
    "for i in range(n):\n",
    "    u[i][0] = f(x[i], y[0])\n",
    "    u[i][N] = f(x[i], y[N])\n",
    "    u[0][i] = f(x[0], y[i])\n",
    "    u[N][i] = f(x[N], y[i])\n",
    "\n",
    "while eps < M:\n",
    "    for i in range(1, N):\n",
    "        for j in range(1, N):\n",
    "            v = (u[i+1][j] + u[i-1][j] + u[i][j+1] + u[i][j-1]) / 4\n",
    "            M = max(abs(u[i][j] - v), M)\n",
    "            u[i][j] = v\n",
    "    print(M)\n",
    "\n",
    "for row in u:\n",
    "    print(' '.join(map(str, row)))"
   ]
  }
 ],
 "metadata": {
  "language_info": {
   "codemirror_mode": {
    "name": "ipython",
    "version": 3
   },
   "file_extension": ".py",
   "mimetype": "text/x-python",
   "name": "python",
   "nbconvert_exporter": "python",
   "pygments_lexer": "ipython3",
   "version": "3.8.1-final"
  },
  "orig_nbformat": 2,
  "kernelspec": {
   "name": "python38164bitfd8da44717bc453c9041880ae5275ce0",
   "display_name": "Python 3.8.1 64-bit"
  }
 },
 "nbformat": 4,
 "nbformat_minor": 2
}